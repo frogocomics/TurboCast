{
 "cells": [
  {
   "cell_type": "markdown",
   "id": "916861e0",
   "metadata": {},
   "source": [
    "# Benchmark performance"
   ]
  },
  {
   "cell_type": "markdown",
   "id": "c8ee2e33",
   "metadata": {},
   "source": [
    "Let's look at the performance of some other models to put in context how well/poorly our model performs."
   ]
  },
  {
   "cell_type": "markdown",
   "id": "bc2e31ac",
   "metadata": {},
   "source": [
    "Import all libraries used."
   ]
  },
  {
   "cell_type": "code",
   "execution_count": 34,
   "id": "81d6759c",
   "metadata": {},
   "outputs": [],
   "source": [
    "import os\n",
    "from datetime import datetime\n",
    "from datetime import timedelta\n",
    "\n",
    "import matplotlib.pyplot as plt\n",
    "import numpy as np\n",
    "import pandas as pd\n",
    "import xgboost as xgb\n",
    "from sklearn.ensemble import RandomForestRegressor\n",
    "\n",
    "import rnn_utils"
   ]
  },
  {
   "cell_type": "markdown",
   "id": "40369604",
   "metadata": {},
   "source": [
    "Set plot style for <code>matplotlib</code>."
   ]
  },
  {
   "cell_type": "code",
   "execution_count": 33,
   "id": "051b5daa",
   "metadata": {},
   "outputs": [],
   "source": [
    "plt.style.use('fivethirtyeight')"
   ]
  },
  {
   "cell_type": "code",
   "execution_count": 2,
   "id": "2be87938",
   "metadata": {},
   "outputs": [],
   "source": [
    "# Load weather stations\n",
    "weather_stations = [\n",
    "    pd.read_csv('../data/weather/processed/' + file, parse_dates=['UTC_DATE'], index_col='UTC_DATE')\n",
    "    .drop(columns=['Unnamed: 0', 'WIND_SPEED', 'WIND_DIRECTION', 'VAPOR_PRESSURE', 'x', 'y', 'STATION_NAME'])\n",
    "    for file in os.listdir('../data/weather/processed')\n",
    "]\n",
    "\n",
    "# Get list of station names\n",
    "station_names = [file[:-4] for file in os.listdir('../data/weather/processed')]\n",
    "\n",
    "# Load radar images (loading as mmap to save RAM)\n",
    "images_array = np.load('../data/radar/processed/all_images.npy', mmap_mode='r')[24510:]\n",
    "\n",
    "weather_images = pd.read_csv('../data/radar/processed/image_dates.csv', parse_dates=['UTC_DATE']).iloc[24510:].reset_index(drop=True)\n",
    "\n",
    "for i, weather_station in enumerate(weather_stations):\n",
    "    weather_stations[i] = weather_station.loc[weather_station.index.isin(weather_images['UTC_DATE'])]"
   ]
  },
  {
   "cell_type": "code",
   "execution_count": 3,
   "id": "9f46c007",
   "metadata": {},
   "outputs": [
    {
     "data": {
      "text/html": [
       "<div>\n",
       "<style scoped>\n",
       "    .dataframe tbody tr th:only-of-type {\n",
       "        vertical-align: middle;\n",
       "    }\n",
       "\n",
       "    .dataframe tbody tr th {\n",
       "        vertical-align: top;\n",
       "    }\n",
       "\n",
       "    .dataframe thead th {\n",
       "        text-align: right;\n",
       "    }\n",
       "</style>\n",
       "<table border=\"1\" class=\"dataframe\">\n",
       "  <thead>\n",
       "    <tr style=\"text-align: right;\">\n",
       "      <th></th>\n",
       "      <th>PRECIP_AMOUNT_BARRIE-ORO</th>\n",
       "      <th>TEMP_BARRIE-ORO</th>\n",
       "      <th>DEW_POINT_TEMP_BARRIE-ORO</th>\n",
       "      <th>RELATIVE_HUMIDITY_BARRIE-ORO</th>\n",
       "      <th>STATION_PRESSURE_BARRIE-ORO</th>\n",
       "      <th>WIND_X_BARRIE-ORO</th>\n",
       "      <th>WIND_Y_BARRIE-ORO</th>\n",
       "      <th>PRECIP_AMOUNT_EGBERT CS</th>\n",
       "      <th>TEMP_EGBERT CS</th>\n",
       "      <th>DEW_POINT_TEMP_EGBERT CS</th>\n",
       "      <th>...</th>\n",
       "      <th>STATION_PRESSURE_TORONTO CITY CENTRE</th>\n",
       "      <th>WIND_X_TORONTO CITY CENTRE</th>\n",
       "      <th>WIND_Y_TORONTO CITY CENTRE</th>\n",
       "      <th>PRECIP_AMOUNT_TORONTO CITY</th>\n",
       "      <th>TEMP_TORONTO CITY</th>\n",
       "      <th>DEW_POINT_TEMP_TORONTO CITY</th>\n",
       "      <th>RELATIVE_HUMIDITY_TORONTO CITY</th>\n",
       "      <th>STATION_PRESSURE_TORONTO CITY</th>\n",
       "      <th>WIND_X_TORONTO CITY</th>\n",
       "      <th>WIND_Y_TORONTO CITY</th>\n",
       "    </tr>\n",
       "    <tr>\n",
       "      <th>UTC_DATE</th>\n",
       "      <th></th>\n",
       "      <th></th>\n",
       "      <th></th>\n",
       "      <th></th>\n",
       "      <th></th>\n",
       "      <th></th>\n",
       "      <th></th>\n",
       "      <th></th>\n",
       "      <th></th>\n",
       "      <th></th>\n",
       "      <th></th>\n",
       "      <th></th>\n",
       "      <th></th>\n",
       "      <th></th>\n",
       "      <th></th>\n",
       "      <th></th>\n",
       "      <th></th>\n",
       "      <th></th>\n",
       "      <th></th>\n",
       "      <th></th>\n",
       "      <th></th>\n",
       "    </tr>\n",
       "  </thead>\n",
       "  <tbody>\n",
       "    <tr>\n",
       "      <th>2014-11-05 20:00:00</th>\n",
       "      <td>0.0</td>\n",
       "      <td>6.2</td>\n",
       "      <td>-0.8</td>\n",
       "      <td>0.61</td>\n",
       "      <td>0.970047</td>\n",
       "      <td>-17.726540</td>\n",
       "      <td>-3.125667</td>\n",
       "      <td>0.0</td>\n",
       "      <td>7.0</td>\n",
       "      <td>-1.5</td>\n",
       "      <td>...</td>\n",
       "      <td>0.996003</td>\n",
       "      <td>-22.552623</td>\n",
       "      <td>-8.208483e+00</td>\n",
       "      <td>0.0</td>\n",
       "      <td>9.8</td>\n",
       "      <td>0.8</td>\n",
       "      <td>0.53</td>\n",
       "      <td>0.991463</td>\n",
       "      <td>-22.534875</td>\n",
       "      <td>-8.167757</td>\n",
       "    </tr>\n",
       "    <tr>\n",
       "      <th>2014-11-05 21:00:00</th>\n",
       "      <td>0.0</td>\n",
       "      <td>5.9</td>\n",
       "      <td>-0.3</td>\n",
       "      <td>0.64</td>\n",
       "      <td>0.970146</td>\n",
       "      <td>-12.802501</td>\n",
       "      <td>-2.257426</td>\n",
       "      <td>0.0</td>\n",
       "      <td>6.6</td>\n",
       "      <td>-0.9</td>\n",
       "      <td>...</td>\n",
       "      <td>0.996003</td>\n",
       "      <td>-12.802501</td>\n",
       "      <td>2.257426e+00</td>\n",
       "      <td>0.0</td>\n",
       "      <td>9.6</td>\n",
       "      <td>0.8</td>\n",
       "      <td>0.54</td>\n",
       "      <td>0.991463</td>\n",
       "      <td>-12.792396</td>\n",
       "      <td>2.267109</td>\n",
       "    </tr>\n",
       "    <tr>\n",
       "      <th>2014-11-05 22:00:00</th>\n",
       "      <td>0.0</td>\n",
       "      <td>5.5</td>\n",
       "      <td>0.0</td>\n",
       "      <td>0.68</td>\n",
       "      <td>0.970540</td>\n",
       "      <td>-8.863270</td>\n",
       "      <td>-1.562834</td>\n",
       "      <td>0.0</td>\n",
       "      <td>6.3</td>\n",
       "      <td>0.1</td>\n",
       "      <td>...</td>\n",
       "      <td>0.996496</td>\n",
       "      <td>-21.000000</td>\n",
       "      <td>-3.857637e-15</td>\n",
       "      <td>0.0</td>\n",
       "      <td>9.3</td>\n",
       "      <td>1.3</td>\n",
       "      <td>0.57</td>\n",
       "      <td>0.991957</td>\n",
       "      <td>-20.946363</td>\n",
       "      <td>-0.002198</td>\n",
       "    </tr>\n",
       "    <tr>\n",
       "      <th>2014-11-05 23:00:00</th>\n",
       "      <td>0.0</td>\n",
       "      <td>5.4</td>\n",
       "      <td>0.4</td>\n",
       "      <td>0.70</td>\n",
       "      <td>0.971034</td>\n",
       "      <td>-5.638156</td>\n",
       "      <td>-2.052121</td>\n",
       "      <td>0.0</td>\n",
       "      <td>6.2</td>\n",
       "      <td>0.5</td>\n",
       "      <td>...</td>\n",
       "      <td>0.996891</td>\n",
       "      <td>-15.974775</td>\n",
       "      <td>5.814342e+00</td>\n",
       "      <td>0.0</td>\n",
       "      <td>9.2</td>\n",
       "      <td>1.3</td>\n",
       "      <td>0.58</td>\n",
       "      <td>0.992351</td>\n",
       "      <td>-15.942379</td>\n",
       "      <td>5.787378</td>\n",
       "    </tr>\n",
       "    <tr>\n",
       "      <th>2014-11-06 00:00:00</th>\n",
       "      <td>0.0</td>\n",
       "      <td>5.0</td>\n",
       "      <td>0.9</td>\n",
       "      <td>0.75</td>\n",
       "      <td>0.971330</td>\n",
       "      <td>-4.330127</td>\n",
       "      <td>-2.500000</td>\n",
       "      <td>0.0</td>\n",
       "      <td>6.0</td>\n",
       "      <td>0.5</td>\n",
       "      <td>...</td>\n",
       "      <td>0.997089</td>\n",
       "      <td>-10.336619</td>\n",
       "      <td>3.762222e+00</td>\n",
       "      <td>0.0</td>\n",
       "      <td>8.2</td>\n",
       "      <td>1.2</td>\n",
       "      <td>0.61</td>\n",
       "      <td>0.992647</td>\n",
       "      <td>-10.309870</td>\n",
       "      <td>3.732272</td>\n",
       "    </tr>\n",
       "  </tbody>\n",
       "</table>\n",
       "<p>5 rows × 70 columns</p>\n",
       "</div>"
      ],
      "text/plain": [
       "                     PRECIP_AMOUNT_BARRIE-ORO  TEMP_BARRIE-ORO  \\\n",
       "UTC_DATE                                                         \n",
       "2014-11-05 20:00:00                       0.0              6.2   \n",
       "2014-11-05 21:00:00                       0.0              5.9   \n",
       "2014-11-05 22:00:00                       0.0              5.5   \n",
       "2014-11-05 23:00:00                       0.0              5.4   \n",
       "2014-11-06 00:00:00                       0.0              5.0   \n",
       "\n",
       "                     DEW_POINT_TEMP_BARRIE-ORO  RELATIVE_HUMIDITY_BARRIE-ORO  \\\n",
       "UTC_DATE                                                                       \n",
       "2014-11-05 20:00:00                       -0.8                          0.61   \n",
       "2014-11-05 21:00:00                       -0.3                          0.64   \n",
       "2014-11-05 22:00:00                        0.0                          0.68   \n",
       "2014-11-05 23:00:00                        0.4                          0.70   \n",
       "2014-11-06 00:00:00                        0.9                          0.75   \n",
       "\n",
       "                     STATION_PRESSURE_BARRIE-ORO  WIND_X_BARRIE-ORO  \\\n",
       "UTC_DATE                                                              \n",
       "2014-11-05 20:00:00                     0.970047         -17.726540   \n",
       "2014-11-05 21:00:00                     0.970146         -12.802501   \n",
       "2014-11-05 22:00:00                     0.970540          -8.863270   \n",
       "2014-11-05 23:00:00                     0.971034          -5.638156   \n",
       "2014-11-06 00:00:00                     0.971330          -4.330127   \n",
       "\n",
       "                     WIND_Y_BARRIE-ORO  PRECIP_AMOUNT_EGBERT CS  \\\n",
       "UTC_DATE                                                          \n",
       "2014-11-05 20:00:00          -3.125667                      0.0   \n",
       "2014-11-05 21:00:00          -2.257426                      0.0   \n",
       "2014-11-05 22:00:00          -1.562834                      0.0   \n",
       "2014-11-05 23:00:00          -2.052121                      0.0   \n",
       "2014-11-06 00:00:00          -2.500000                      0.0   \n",
       "\n",
       "                     TEMP_EGBERT CS  DEW_POINT_TEMP_EGBERT CS  ...  \\\n",
       "UTC_DATE                                                       ...   \n",
       "2014-11-05 20:00:00             7.0                      -1.5  ...   \n",
       "2014-11-05 21:00:00             6.6                      -0.9  ...   \n",
       "2014-11-05 22:00:00             6.3                       0.1  ...   \n",
       "2014-11-05 23:00:00             6.2                       0.5  ...   \n",
       "2014-11-06 00:00:00             6.0                       0.5  ...   \n",
       "\n",
       "                     STATION_PRESSURE_TORONTO CITY CENTRE  \\\n",
       "UTC_DATE                                                    \n",
       "2014-11-05 20:00:00                              0.996003   \n",
       "2014-11-05 21:00:00                              0.996003   \n",
       "2014-11-05 22:00:00                              0.996496   \n",
       "2014-11-05 23:00:00                              0.996891   \n",
       "2014-11-06 00:00:00                              0.997089   \n",
       "\n",
       "                     WIND_X_TORONTO CITY CENTRE  WIND_Y_TORONTO CITY CENTRE  \\\n",
       "UTC_DATE                                                                      \n",
       "2014-11-05 20:00:00                  -22.552623               -8.208483e+00   \n",
       "2014-11-05 21:00:00                  -12.802501                2.257426e+00   \n",
       "2014-11-05 22:00:00                  -21.000000               -3.857637e-15   \n",
       "2014-11-05 23:00:00                  -15.974775                5.814342e+00   \n",
       "2014-11-06 00:00:00                  -10.336619                3.762222e+00   \n",
       "\n",
       "                     PRECIP_AMOUNT_TORONTO CITY  TEMP_TORONTO CITY  \\\n",
       "UTC_DATE                                                             \n",
       "2014-11-05 20:00:00                         0.0                9.8   \n",
       "2014-11-05 21:00:00                         0.0                9.6   \n",
       "2014-11-05 22:00:00                         0.0                9.3   \n",
       "2014-11-05 23:00:00                         0.0                9.2   \n",
       "2014-11-06 00:00:00                         0.0                8.2   \n",
       "\n",
       "                     DEW_POINT_TEMP_TORONTO CITY  \\\n",
       "UTC_DATE                                           \n",
       "2014-11-05 20:00:00                          0.8   \n",
       "2014-11-05 21:00:00                          0.8   \n",
       "2014-11-05 22:00:00                          1.3   \n",
       "2014-11-05 23:00:00                          1.3   \n",
       "2014-11-06 00:00:00                          1.2   \n",
       "\n",
       "                     RELATIVE_HUMIDITY_TORONTO CITY  \\\n",
       "UTC_DATE                                              \n",
       "2014-11-05 20:00:00                            0.53   \n",
       "2014-11-05 21:00:00                            0.54   \n",
       "2014-11-05 22:00:00                            0.57   \n",
       "2014-11-05 23:00:00                            0.58   \n",
       "2014-11-06 00:00:00                            0.61   \n",
       "\n",
       "                     STATION_PRESSURE_TORONTO CITY  WIND_X_TORONTO CITY  \\\n",
       "UTC_DATE                                                                  \n",
       "2014-11-05 20:00:00                       0.991463           -22.534875   \n",
       "2014-11-05 21:00:00                       0.991463           -12.792396   \n",
       "2014-11-05 22:00:00                       0.991957           -20.946363   \n",
       "2014-11-05 23:00:00                       0.992351           -15.942379   \n",
       "2014-11-06 00:00:00                       0.992647           -10.309870   \n",
       "\n",
       "                     WIND_Y_TORONTO CITY  \n",
       "UTC_DATE                                  \n",
       "2014-11-05 20:00:00            -8.167757  \n",
       "2014-11-05 21:00:00             2.267109  \n",
       "2014-11-05 22:00:00            -0.002198  \n",
       "2014-11-05 23:00:00             5.787378  \n",
       "2014-11-06 00:00:00             3.732272  \n",
       "\n",
       "[5 rows x 70 columns]"
      ]
     },
     "execution_count": 3,
     "metadata": {},
     "output_type": "execute_result"
    }
   ],
   "source": [
    "weather_data = pd.DataFrame()\n",
    "\n",
    "# Create single master dataframe\n",
    "for i, df in enumerate(weather_stations):\n",
    "    \n",
    "    df = df.copy()\n",
    "    \n",
    "    # Scale RH and pressure\n",
    "    df['RELATIVE_HUMIDITY'] = df['RELATIVE_HUMIDITY'] / 100\n",
    "    df['STATION_PRESSURE'] = df['STATION_PRESSURE'] / 101.325\n",
    "    \n",
    "    for column in df.columns:\n",
    "        if column != 'UTC_DATE':  # Avoid renaming the UTC_DATE column\n",
    "            df.rename(columns={column: f'{column}_{station_names[i]}'}, inplace=True)\n",
    "    \n",
    "    if weather_data.empty:\n",
    "        weather_data = df\n",
    "    else:\n",
    "        weather_data = pd.merge(weather_data, df, on='UTC_DATE', how='left')\n",
    "\n",
    "weather_data = weather_data.sort_values(by='UTC_DATE')\n",
    "weather_data.head()"
   ]
  },
  {
   "cell_type": "code",
   "execution_count": 4,
   "id": "89e66c96",
   "metadata": {},
   "outputs": [
    {
     "data": {
      "text/plain": [
       "RangeIndex(start=0, stop=71238, step=1)"
      ]
     },
     "execution_count": 4,
     "metadata": {},
     "output_type": "execute_result"
    }
   ],
   "source": [
    "weather_data = weather_data.reset_index()\n",
    "weather_data.index"
   ]
  },
  {
   "cell_type": "code",
   "execution_count": 5,
   "id": "661c5ab3",
   "metadata": {},
   "outputs": [
    {
     "name": "stdout",
     "output_type": "stream",
     "text": [
      "VALIDATION CHUNKS:\n",
      "[[datetime.datetime(2022, 1, 1, 0, 0), datetime.datetime(2022, 2, 15, 15, 0)], [datetime.datetime(2022, 2, 15, 15, 0), datetime.datetime(2022, 4, 2, 6, 0)], [datetime.datetime(2022, 4, 2, 6, 0), datetime.datetime(2022, 5, 17, 21, 0)], [datetime.datetime(2022, 5, 17, 21, 0), datetime.datetime(2022, 7, 2, 12, 0)], [datetime.datetime(2022, 7, 2, 12, 0), datetime.datetime(2022, 8, 17, 3, 0)], [datetime.datetime(2022, 8, 17, 3, 0), datetime.datetime(2022, 10, 1, 18, 0)], [datetime.datetime(2022, 10, 1, 18, 0), datetime.datetime(2022, 11, 16, 9, 0)], [datetime.datetime(2022, 11, 16, 9, 0), datetime.datetime(2022, 12, 31, 23, 59, 59)]]\n"
     ]
    }
   ],
   "source": [
    "print('VALIDATION CHUNKS:')\n",
    "chunks = rnn_utils.split_year_into_chunks(2022)\n",
    "print(chunks)"
   ]
  },
  {
   "cell_type": "code",
   "execution_count": 6,
   "id": "58b1cc2d",
   "metadata": {},
   "outputs": [
    {
     "data": {
      "text/plain": [
       "(60053, 8743, 1094)"
      ]
     },
     "execution_count": 6,
     "metadata": {},
     "output_type": "execute_result"
    }
   ],
   "source": [
    "# Resetting the dataframes\n",
    "train_data = pd.DataFrame()\n",
    "validation_data = pd.DataFrame()\n",
    "test_data = pd.DataFrame(weather_data[weather_data['UTC_DATE'] >= datetime(2023, 1, 1)])\n",
    "\n",
    "for i, (start_date, end_date) in enumerate(chunks):\n",
    "    year = 2015 + i\n",
    "    start_date = start_date.replace(year=year)\n",
    "    end_date = end_date.replace(year=year)\n",
    "    \n",
    "    b = (weather_data['UTC_DATE'] >= start_date) & (weather_data['UTC_DATE'] < end_date)\n",
    "    val =  pd.DataFrame(weather_data[b])\n",
    "    train = pd.DataFrame(weather_data[~b & (weather_data['UTC_DATE'].dt.year == year)])\n",
    "    \n",
    "    # Append to overall train set\n",
    "    train_data = pd.concat([train_data, train])\n",
    "    # Append to overall val set\n",
    "    validation_data = pd.concat([validation_data, val])\n",
    "\n",
    "# Display sizes of each dataset\n",
    "len(train_data), len(validation_data), len(test_data)"
   ]
  },
  {
   "cell_type": "markdown",
   "id": "5b507294",
   "metadata": {},
   "source": [
    "## Make predictions on test set"
   ]
  },
  {
   "cell_type": "markdown",
   "id": "5de148cf",
   "metadata": {},
   "source": [
    "Let's visualize precipitation test data."
   ]
  },
  {
   "cell_type": "code",
   "execution_count": 7,
   "id": "f864d4b2",
   "metadata": {},
   "outputs": [
    {
     "data": {
      "text/plain": [
       "[<matplotlib.lines.Line2D at 0x15544e724f0>]"
      ]
     },
     "execution_count": 7,
     "metadata": {},
     "output_type": "execute_result"
    },
    {
     "data": {
      "image/png": "[encoded data removed]",
      "text/plain": [
       "<Figure size 576x432 with 1 Axes>"
      ]
     },
     "metadata": {
      "needs_background": "light"
     },
     "output_type": "display_data"
    }
   ],
   "source": [
    "plt.figure(figsize=(8, 6))\n",
    "test_dates = test_data['UTC_DATE'].tolist()\n",
    "test_precip = test_data['PRECIP_AMOUNT_TORONTO CITY'].to_numpy()\n",
    "plt.plot(test_dates, test_precip)"
   ]
  },
  {
   "cell_type": "markdown",
   "id": "cb00c561",
   "metadata": {},
   "source": [
    "## Predict with average model"
   ]
  },
  {
   "cell_type": "code",
   "execution_count": 8,
   "id": "c215effe",
   "metadata": {},
   "outputs": [
    {
     "name": "stdout",
     "output_type": "stream",
     "text": [
      "MSE (Naive average): 0.4069766728054021\n"
     ]
    }
   ],
   "source": [
    "n = 0\n",
    "running_loss = 0\n",
    "\n",
    "# Iterate over all test dates, check if the sequence is consecutive,\n",
    "# make a prediction, then calculate the loss.\n",
    "for i in range(len(test_dates) - 8):\n",
    "    window = test_dates[i:i + 8]\n",
    "    precip = test_precip[i:i+ 8]\n",
    "    \n",
    "    train_precip = precip[:6]\n",
    "    target_precip = precip[6:]\n",
    "\n",
    "    if window[0] + timedelta(hours=7) == window[-1]:\n",
    "        # Consecutive\n",
    "        pred = np.mean(train_precip)\n",
    "        pred = np.repeat(pred, 2)\n",
    "        \n",
    "        running_loss += np.sum((pred - target_precip) ** 2)\n",
    "        n += 1\n",
    "\n",
    "print('MSE (Naive average):', running_loss / n)"
   ]
  },
  {
   "cell_type": "markdown",
   "id": "93f108e1",
   "metadata": {},
   "source": [
    "## Predict with persistence model"
   ]
  },
  {
   "cell_type": "code",
   "execution_count": 9,
   "id": "5483ecfd",
   "metadata": {},
   "outputs": [
    {
     "name": "stdout",
     "output_type": "stream",
     "text": [
      "MSE (Naive persistence): 0.304585635359116\n"
     ]
    }
   ],
   "source": [
    "n = 0\n",
    "running_loss = 0\n",
    "\n",
    "# Iterate over all test dates, check if the sequence is consecutive,\n",
    "# make a prediction, then calculate the loss.\n",
    "for i in range(len(test_dates) - 8):\n",
    "    window = test_dates[i:i + 8]\n",
    "    precip = test_precip[i:i+ 8]\n",
    "    \n",
    "    train_precip = precip[:6]\n",
    "    target_precip = precip[6:]\n",
    "\n",
    "    if window[0] + timedelta(hours=7) == window[-1]:\n",
    "        # Consecutive\n",
    "        pred = train_precip[-1]\n",
    "        pred = np.repeat(pred, 2)\n",
    "        \n",
    "        running_loss += np.sum((pred - target_precip) ** 2)\n",
    "        n += 1\n",
    "\n",
    "print('MSE (Naive persistence):', running_loss / n)"
   ]
  },
  {
   "cell_type": "markdown",
   "id": "bc82f9eb",
   "metadata": {},
   "source": [
    "## Predict with Random Forest Model"
   ]
  },
  {
   "cell_type": "code",
   "execution_count": 10,
   "id": "09c95a5b",
   "metadata": {},
   "outputs": [
    {
     "data": {
      "text/plain": [
       "array([[  0.        , -23.8       , -30.6       ,   0.53      ,\n",
       "          1.00044412],\n",
       "       [  0.        , -22.8       , -29.7       ,   0.53      ,\n",
       "          1.00093758],\n",
       "       [  0.        , -21.4       , -28.6       ,   0.52      ,\n",
       "          1.00113496],\n",
       "       ...,\n",
       "       [  4.7       ,  -0.4       ,  -1.6       ,   0.92      ,\n",
       "          0.98998273],\n",
       "       [  3.9       ,  -0.7       ,  -1.8       ,   0.92      ,\n",
       "          0.98899581],\n",
       "       [  2.6       ,  -0.8       ,  -2.1       ,   0.91      ,\n",
       "          0.98860104]])"
      ]
     },
     "execution_count": 10,
     "metadata": {},
     "output_type": "execute_result"
    }
   ],
   "source": [
    "rf_train_data = train_data.drop(columns=['UTC_DATE'])\n",
    "\n",
    "# Let's only select features from TORONTO_CITY for the random forest\n",
    "rf_train_data = rf_train_data[[\n",
    "    'PRECIP_AMOUNT_TORONTO CITY',\n",
    "    'TEMP_TORONTO CITY',\n",
    "    'DEW_POINT_TEMP_TORONTO CITY',\n",
    "    'RELATIVE_HUMIDITY_TORONTO CITY',\n",
    "    'STATION_PRESSURE_TORONTO CITY'   \n",
    "]].values\n",
    "rf_train_data"
   ]
  },
  {
   "cell_type": "code",
   "execution_count": 11,
   "id": "b29e8d00",
   "metadata": {},
   "outputs": [],
   "source": [
    "train_dates = train_data['UTC_DATE'].tolist()\n",
    "train_precip = train_data['PRECIP_AMOUNT_TORONTO CITY'].to_numpy()"
   ]
  },
  {
   "cell_type": "code",
   "execution_count": 17,
   "id": "3efc8ef2",
   "metadata": {},
   "outputs": [
    {
     "name": "stdout",
     "output_type": "stream",
     "text": [
      "(58318, 30) (58318, 2)\n"
     ]
    }
   ],
   "source": [
    "inputs = []\n",
    "outputs = []\n",
    "\n",
    "# Create windows\n",
    "for i in range(len(train_dates) - 8):\n",
    "    window = train_dates[i:i + 8]\n",
    "    precip = train_precip[i:i + 8]\n",
    "\n",
    "    if window[0] + timedelta(hours=7) == window[-1]:\n",
    "        # Consecutive\n",
    "        inputs.append(rf_train_data[i:i + 6, :].flatten())\n",
    "        outputs.append(precip[6:])\n",
    "\n",
    "train_inputs = np.array(inputs)\n",
    "train_outputs = np.array(outputs)\n",
    "print(train_inputs.shape, train_outputs.shape)"
   ]
  },
  {
   "cell_type": "code",
   "execution_count": 32,
   "id": "07d65152",
   "metadata": {},
   "outputs": [
    {
     "data": {
      "text/html": [
       "<style>#sk-container-id-3 {color: black;}#sk-container-id-3 pre{padding: 0;}#sk-container-id-3 div.sk-toggleable {background-color: white;}#sk-container-id-3 label.sk-toggleable__label {cursor: pointer;display: block;width: 100%;margin-bottom: 0;padding: 0.3em;box-sizing: border-box;text-align: center;}#sk-container-id-3 label.sk-toggleable__label-arrow:before {content: \"▸\";float: left;margin-right: 0.25em;color: #696969;}#sk-container-id-3 label.sk-toggleable__label-arrow:hover:before {color: black;}#sk-container-id-3 div.sk-estimator:hover label.sk-toggleable__label-arrow:before {color: black;}#sk-container-id-3 div.sk-toggleable__content {max-height: 0;max-width: 0;overflow: hidden;text-align: left;background-color: #f0f8ff;}#sk-container-id-3 div.sk-toggleable__content pre {margin: 0.2em;color: black;border-radius: 0.25em;background-color: #f0f8ff;}#sk-container-id-3 input.sk-toggleable__control:checked~div.sk-toggleable__content {max-height: 200px;max-width: 100%;overflow: auto;}#sk-container-id-3 input.sk-toggleable__control:checked~label.sk-toggleable__label-arrow:before {content: \"▾\";}#sk-container-id-3 div.sk-estimator input.sk-toggleable__control:checked~label.sk-toggleable__label {background-color: #d4ebff;}#sk-container-id-3 div.sk-label input.sk-toggleable__control:checked~label.sk-toggleable__label {background-color: #d4ebff;}#sk-container-id-3 input.sk-hidden--visually {border: 0;clip: rect(1px 1px 1px 1px);clip: rect(1px, 1px, 1px, 1px);height: 1px;margin: -1px;overflow: hidden;padding: 0;position: absolute;width: 1px;}#sk-container-id-3 div.sk-estimator {font-family: monospace;background-color: #f0f8ff;border: 1px dotted black;border-radius: 0.25em;box-sizing: border-box;margin-bottom: 0.5em;}#sk-container-id-3 div.sk-estimator:hover {background-color: #d4ebff;}#sk-container-id-3 div.sk-parallel-item::after {content: \"\";width: 100%;border-bottom: 1px solid gray;flex-grow: 1;}#sk-container-id-3 div.sk-label:hover label.sk-toggleable__label {background-color: #d4ebff;}#sk-container-id-3 div.sk-serial::before {content: \"\";position: absolute;border-left: 1px solid gray;box-sizing: border-box;top: 0;bottom: 0;left: 50%;z-index: 0;}#sk-container-id-3 div.sk-serial {display: flex;flex-direction: column;align-items: center;background-color: white;padding-right: 0.2em;padding-left: 0.2em;position: relative;}#sk-container-id-3 div.sk-item {position: relative;z-index: 1;}#sk-container-id-3 div.sk-parallel {display: flex;align-items: stretch;justify-content: center;background-color: white;position: relative;}#sk-container-id-3 div.sk-item::before, #sk-container-id-3 div.sk-parallel-item::before {content: \"\";position: absolute;border-left: 1px solid gray;box-sizing: border-box;top: 0;bottom: 0;left: 50%;z-index: -1;}#sk-container-id-3 div.sk-parallel-item {display: flex;flex-direction: column;z-index: 1;position: relative;background-color: white;}#sk-container-id-3 div.sk-parallel-item:first-child::after {align-self: flex-end;width: 50%;}#sk-container-id-3 div.sk-parallel-item:last-child::after {align-self: flex-start;width: 50%;}#sk-container-id-3 div.sk-parallel-item:only-child::after {width: 0;}#sk-container-id-3 div.sk-dashed-wrapped {border: 1px dashed gray;margin: 0 0.4em 0.5em 0.4em;box-sizing: border-box;padding-bottom: 0.4em;background-color: white;}#sk-container-id-3 div.sk-label label {font-family: monospace;font-weight: bold;display: inline-block;line-height: 1.2em;}#sk-container-id-3 div.sk-label-container {text-align: center;}#sk-container-id-3 div.sk-container {/* jupyter's `normalize.less` sets `[hidden] { display: none; }` but bootstrap.min.css set `[hidden] { display: none !important; }` so we also need the `!important` here to be able to override the default hidden behavior on the sphinx rendered scikit-learn.org. See: https://github.com/scikit-learn/scikit-learn/issues/21755 */display: inline-block !important;position: relative;}#sk-container-id-3 div.sk-text-repr-fallback {display: none;}</style><div id=\"sk-container-id-3\" class=\"sk-top-container\"><div class=\"sk-text-repr-fallback\"><pre>RandomForestRegressor(max_depth=40, n_jobs=-1, random_state=42)</pre><b>In a Jupyter environment, please rerun this cell to show the HTML representation or trust the notebook. <br />On GitHub, the HTML representation is unable to render, please try loading this page with nbviewer.org.</b></div><div class=\"sk-container\" hidden><div class=\"sk-item\"><div class=\"sk-estimator sk-toggleable\"><input class=\"sk-toggleable__control sk-hidden--visually\" id=\"sk-estimator-id-3\" type=\"checkbox\" checked><label for=\"sk-estimator-id-3\" class=\"sk-toggleable__label sk-toggleable__label-arrow\">RandomForestRegressor</label><div class=\"sk-toggleable__content\"><pre>RandomForestRegressor(max_depth=40, n_jobs=-1, random_state=42)</pre></div></div></div></div></div>"
      ],
      "text/plain": [
       "RandomForestRegressor(max_depth=40, n_jobs=-1, random_state=42)"
      ]
     },
     "execution_count": 32,
     "metadata": {},
     "output_type": "execute_result"
    }
   ],
   "source": [
    "# Create random forest regressor model\n",
    "rf_regressor = RandomForestRegressor(n_estimators=100, random_state=42, max_depth=40, n_jobs=-1)\n",
    "rf_regressor.fit(train_inputs, train_outputs)"
   ]
  },
  {
   "cell_type": "code",
   "execution_count": 29,
   "id": "9a853d5d",
   "metadata": {},
   "outputs": [
    {
     "name": "stdout",
     "output_type": "stream",
     "text": [
      "(1086, 30) (1086, 2)\n"
     ]
    }
   ],
   "source": [
    "inputs = []\n",
    "outputs = []\n",
    "\n",
    "rf_test_data = test_data.drop(columns=['UTC_DATE'])\n",
    "rf_test_data = rf_test_data[[\n",
    "    'PRECIP_AMOUNT_TORONTO CITY',\n",
    "    'TEMP_TORONTO CITY',\n",
    "    'DEW_POINT_TEMP_TORONTO CITY',\n",
    "    'RELATIVE_HUMIDITY_TORONTO CITY',\n",
    "    'STATION_PRESSURE_TORONTO CITY'   \n",
    "]].values\n",
    "\n",
    "# Create windows\n",
    "for i in range(len(test_dates) - 8):\n",
    "    window = test_dates[i:i + 8]\n",
    "    precip = test_precip[i:i + 8]\n",
    "\n",
    "    if window[0] + timedelta(hours=7) == window[-1]:\n",
    "        # Consecutive\n",
    "        inputs.append(rf_test_data[i:i + 6, :].flatten())\n",
    "        outputs.append(precip[6:])\n",
    "\n",
    "test_inputs = np.array(inputs)\n",
    "test_outputs = np.array(outputs)\n",
    "print(test_inputs.shape, test_outputs.shape)"
   ]
  },
  {
   "cell_type": "code",
   "execution_count": 30,
   "id": "f3c577ec",
   "metadata": {},
   "outputs": [
    {
     "name": "stdout",
     "output_type": "stream",
     "text": [
      "MSE (Basic RF): 0.15493580540369475\n"
     ]
    }
   ],
   "source": [
    "# Make predictions with random forest model and calculate loss\n",
    "pred = rf_regressor.predict(test_inputs).flatten()\n",
    "true = test_outputs.flatten()\n",
    "\n",
    "loss = np.mean((pred - true) ** 2)\n",
    "print('MSE (Basic RF):', loss)"
   ]
  },
  {
   "cell_type": "markdown",
   "id": "1a64e756",
   "metadata": {},
   "source": [
    "## Predict with XGBoost Model"
   ]
  },
  {
   "cell_type": "code",
   "execution_count": 20,
   "id": "e19a86e8",
   "metadata": {},
   "outputs": [
    {
     "data": {
      "text/html": [
       "<style>#sk-container-id-2 {color: black;}#sk-container-id-2 pre{padding: 0;}#sk-container-id-2 div.sk-toggleable {background-color: white;}#sk-container-id-2 label.sk-toggleable__label {cursor: pointer;display: block;width: 100%;margin-bottom: 0;padding: 0.3em;box-sizing: border-box;text-align: center;}#sk-container-id-2 label.sk-toggleable__label-arrow:before {content: \"▸\";float: left;margin-right: 0.25em;color: #696969;}#sk-container-id-2 label.sk-toggleable__label-arrow:hover:before {color: black;}#sk-container-id-2 div.sk-estimator:hover label.sk-toggleable__label-arrow:before {color: black;}#sk-container-id-2 div.sk-toggleable__content {max-height: 0;max-width: 0;overflow: hidden;text-align: left;background-color: #f0f8ff;}#sk-container-id-2 div.sk-toggleable__content pre {margin: 0.2em;color: black;border-radius: 0.25em;background-color: #f0f8ff;}#sk-container-id-2 input.sk-toggleable__control:checked~div.sk-toggleable__content {max-height: 200px;max-width: 100%;overflow: auto;}#sk-container-id-2 input.sk-toggleable__control:checked~label.sk-toggleable__label-arrow:before {content: \"▾\";}#sk-container-id-2 div.sk-estimator input.sk-toggleable__control:checked~label.sk-toggleable__label {background-color: #d4ebff;}#sk-container-id-2 div.sk-label input.sk-toggleable__control:checked~label.sk-toggleable__label {background-color: #d4ebff;}#sk-container-id-2 input.sk-hidden--visually {border: 0;clip: rect(1px 1px 1px 1px);clip: rect(1px, 1px, 1px, 1px);height: 1px;margin: -1px;overflow: hidden;padding: 0;position: absolute;width: 1px;}#sk-container-id-2 div.sk-estimator {font-family: monospace;background-color: #f0f8ff;border: 1px dotted black;border-radius: 0.25em;box-sizing: border-box;margin-bottom: 0.5em;}#sk-container-id-2 div.sk-estimator:hover {background-color: #d4ebff;}#sk-container-id-2 div.sk-parallel-item::after {content: \"\";width: 100%;border-bottom: 1px solid gray;flex-grow: 1;}#sk-container-id-2 div.sk-label:hover label.sk-toggleable__label {background-color: #d4ebff;}#sk-container-id-2 div.sk-serial::before {content: \"\";position: absolute;border-left: 1px solid gray;box-sizing: border-box;top: 0;bottom: 0;left: 50%;z-index: 0;}#sk-container-id-2 div.sk-serial {display: flex;flex-direction: column;align-items: center;background-color: white;padding-right: 0.2em;padding-left: 0.2em;position: relative;}#sk-container-id-2 div.sk-item {position: relative;z-index: 1;}#sk-container-id-2 div.sk-parallel {display: flex;align-items: stretch;justify-content: center;background-color: white;position: relative;}#sk-container-id-2 div.sk-item::before, #sk-container-id-2 div.sk-parallel-item::before {content: \"\";position: absolute;border-left: 1px solid gray;box-sizing: border-box;top: 0;bottom: 0;left: 50%;z-index: -1;}#sk-container-id-2 div.sk-parallel-item {display: flex;flex-direction: column;z-index: 1;position: relative;background-color: white;}#sk-container-id-2 div.sk-parallel-item:first-child::after {align-self: flex-end;width: 50%;}#sk-container-id-2 div.sk-parallel-item:last-child::after {align-self: flex-start;width: 50%;}#sk-container-id-2 div.sk-parallel-item:only-child::after {width: 0;}#sk-container-id-2 div.sk-dashed-wrapped {border: 1px dashed gray;margin: 0 0.4em 0.5em 0.4em;box-sizing: border-box;padding-bottom: 0.4em;background-color: white;}#sk-container-id-2 div.sk-label label {font-family: monospace;font-weight: bold;display: inline-block;line-height: 1.2em;}#sk-container-id-2 div.sk-label-container {text-align: center;}#sk-container-id-2 div.sk-container {/* jupyter's `normalize.less` sets `[hidden] { display: none; }` but bootstrap.min.css set `[hidden] { display: none !important; }` so we also need the `!important` here to be able to override the default hidden behavior on the sphinx rendered scikit-learn.org. See: https://github.com/scikit-learn/scikit-learn/issues/21755 */display: inline-block !important;position: relative;}#sk-container-id-2 div.sk-text-repr-fallback {display: none;}</style><div id=\"sk-container-id-2\" class=\"sk-top-container\"><div class=\"sk-text-repr-fallback\"><pre>XGBRegressor(base_score=None, booster=None, callbacks=None,\n",
       "             colsample_bylevel=None, colsample_bynode=None,\n",
       "             colsample_bytree=0.8, device=None, early_stopping_rounds=None,\n",
       "             enable_categorical=False, eval_metric=None, feature_types=None,\n",
       "             gamma=1, grow_policy=None, importance_type=None,\n",
       "             interaction_constraints=None, learning_rate=0.01, max_bin=None,\n",
       "             max_cat_threshold=None, max_cat_to_onehot=None,\n",
       "             max_delta_step=None, max_depth=4, max_leaves=None,\n",
       "             min_child_weight=None, missing=nan, monotone_constraints=None,\n",
       "             multi_strategy=None, n_estimators=800, n_jobs=-1,\n",
       "             num_parallel_tree=None, random_state=42, ...)</pre><b>In a Jupyter environment, please rerun this cell to show the HTML representation or trust the notebook. <br />On GitHub, the HTML representation is unable to render, please try loading this page with nbviewer.org.</b></div><div class=\"sk-container\" hidden><div class=\"sk-item\"><div class=\"sk-estimator sk-toggleable\"><input class=\"sk-toggleable__control sk-hidden--visually\" id=\"sk-estimator-id-2\" type=\"checkbox\" checked><label for=\"sk-estimator-id-2\" class=\"sk-toggleable__label sk-toggleable__label-arrow\">XGBRegressor</label><div class=\"sk-toggleable__content\"><pre>XGBRegressor(base_score=None, booster=None, callbacks=None,\n",
       "             colsample_bylevel=None, colsample_bynode=None,\n",
       "             colsample_bytree=0.8, device=None, early_stopping_rounds=None,\n",
       "             enable_categorical=False, eval_metric=None, feature_types=None,\n",
       "             gamma=1, grow_policy=None, importance_type=None,\n",
       "             interaction_constraints=None, learning_rate=0.01, max_bin=None,\n",
       "             max_cat_threshold=None, max_cat_to_onehot=None,\n",
       "             max_delta_step=None, max_depth=4, max_leaves=None,\n",
       "             min_child_weight=None, missing=nan, monotone_constraints=None,\n",
       "             multi_strategy=None, n_estimators=800, n_jobs=-1,\n",
       "             num_parallel_tree=None, random_state=42, ...)</pre></div></div></div></div></div>"
      ],
      "text/plain": [
       "XGBRegressor(base_score=None, booster=None, callbacks=None,\n",
       "             colsample_bylevel=None, colsample_bynode=None,\n",
       "             colsample_bytree=0.8, device=None, early_stopping_rounds=None,\n",
       "             enable_categorical=False, eval_metric=None, feature_types=None,\n",
       "             gamma=1, grow_policy=None, importance_type=None,\n",
       "             interaction_constraints=None, learning_rate=0.01, max_bin=None,\n",
       "             max_cat_threshold=None, max_cat_to_onehot=None,\n",
       "             max_delta_step=None, max_depth=4, max_leaves=None,\n",
       "             min_child_weight=None, missing=nan, monotone_constraints=None,\n",
       "             multi_strategy=None, n_estimators=800, n_jobs=-1,\n",
       "             num_parallel_tree=None, random_state=42, ...)"
      ]
     },
     "execution_count": 20,
     "metadata": {},
     "output_type": "execute_result"
    }
   ],
   "source": [
    "# Creating and fitting the XGBoost regressor model\n",
    "xgb_regressor = xgb.XGBRegressor(\n",
    "    objective='reg:squarederror', \n",
    "    learning_rate=0.01,  # Adjust learning rate\n",
    "    n_estimators=800,   # Number of trees (estimators)\n",
    "    max_depth=4,        # Maximum depth of a tree\n",
    "    subsample=0.8,      # Subsample ratio of the training instance\n",
    "    colsample_bytree=0.8,  # Subsample ratio of columns when constructing each tree\n",
    "    random_state=42,\n",
    "    gamma=1,\n",
    "    n_jobs=-1\n",
    ")\n",
    "xgb_regressor.fit(train_inputs, train_outputs)"
   ]
  },
  {
   "cell_type": "code",
   "execution_count": 31,
   "id": "ca81941a",
   "metadata": {},
   "outputs": [
    {
     "name": "stdout",
     "output_type": "stream",
     "text": [
      "MSE (XGBoost): 0.11346626318842216\n"
     ]
    }
   ],
   "source": [
    "# Make predictions with XGBoost model and calculate loss\n",
    "pred = xgb_regressor.predict(test_inputs).flatten()\n",
    "true = test_outputs.flatten()\n",
    "\n",
    "loss = np.mean((pred - true) ** 2)\n",
    "print('MSE (XGBoost):', loss)"
   ]
  }
 ],
 "metadata": {
  "kernelspec": {
   "display_name": "Python 3",
   "language": "python",
   "name": "python3"
  },
  "language_info": {
   "codemirror_mode": {
    "name": "ipython",
    "version": 3
   },
   "file_extension": ".py",
   "mimetype": "text/x-python",
   "name": "python",
   "nbconvert_exporter": "python",
   "pygments_lexer": "ipython3",
   "version": "3.8.8"
  }
 },
 "nbformat": 4,
 "nbformat_minor": 5
}
